{
 "cells": [
  {
   "cell_type": "code",
   "execution_count": null,
   "metadata": {},
   "outputs": [],
   "source": [
    "import numpy as np\n",
    "import pandas as pd \n",
    "import seaborn as sbs\n",
    "import matplotlib.pyplot as plt \n",
    "%matplotlib inline\n",
    "import warnings\n",
    "import requests\n",
    "import dataframe_image as dfi\n",
    "warnings.filterwarnings('ignore')"
   ]
  },
  {
   "cell_type": "code",
   "execution_count": null,
   "metadata": {},
   "outputs": [],
   "source": [
    "qmc_data = pd.read_excel('Data.xlsx')"
   ]
  },
  {
   "cell_type": "code",
   "execution_count": null,
   "metadata": {
    "scrolled": true
   },
   "outputs": [],
   "source": [
    "qmc_data.head()"
   ]
  },
  {
   "cell_type": "code",
   "execution_count": null,
   "metadata": {
    "scrolled": true
   },
   "outputs": [],
   "source": [
    "qmc_data.info()"
   ]
  },
  {
   "cell_type": "code",
   "execution_count": null,
   "metadata": {},
   "outputs": [],
   "source": [
    "data['Avg_Monthly_Trips'] = qmc_data['Avg_Monthly_Trips'].round(decimals=2)\n",
    "qmc_data['Medicare_Percent'] = qmc_data['Medicare_Percent'].round(decimals=2)\n",
    "qmc_data['Medicaid_Percent'] = qmc_data['Medicaid_Percent'].round(decimals =2)\n",
    "qmc_data['Insurance_Percent'] = qmc_data['Insurance_Percent'].round(decimals =2)\n",
    "qmc_data['Contract_Percent'] = qmc_data['Contract_Percent'].round(decimals =2)\n",
    "qmc_data['Bill_Patient_Percent'] = qmc_data['Bill_Patient_Percent'].round(decimals =2)\n",
    "qmc_data['Private_Pay_Percent'] = qmc_data['Private_Pay_Percent'].round(decimals =2)\n",
    "qmc_data['Emerg_Percent_Trips'] = qmc_data['Emerg_Percent_Trips'].round(decimals =2)\n",
    "qmc_data['Non_Emerg_Percent_Trip'] = qmc_data['Non_Emerg_Percent_Trip'].round(decimals =2)\n",
    "qmc_data['Avg_Rev_Per_Trip'] = qmc_data['Avg_Rev_Per_Trip'].round(decimals =2)\n",
    "qmc_data['Avg_Cogs_Per_Trip'] = qmc_data['Avg_Cogs_Per_Trip'].round(decimals =2)\n",
    "qmc_data['Avg_Profit_Per_Trip'] = qmc_data['Avg_Profit_Per_Trip'].round(decimals =2)"
   ]
  },
  {
   "cell_type": "code",
   "execution_count": null,
   "metadata": {
    "scrolled": true
   },
   "outputs": [],
   "source": [
    "qmc_data.head()"
   ]
  },
  {
   "cell_type": "code",
   "execution_count": null,
   "metadata": {
    "scrolled": true
   },
   "outputs": [],
   "source": [
    "service_df = pd.read_excel('service_type.xlsx')\n",
    "service_df.head()"
   ]
  },
  {
   "cell_type": "code",
   "execution_count": null,
   "metadata": {},
   "outputs": [],
   "source": [
    "qmc_data.rename(columns={'CoName':'name'}, inplace=True)"
   ]
  },
  {
   "cell_type": "code",
   "execution_count": null,
   "metadata": {
    "scrolled": true
   },
   "outputs": [],
   "source": [
    "qmc_data = pd.merge(qmc_data, service_df[['name', 'Market Type','Ground/Air']], on=['name'], how='left')\n",
    "qmc_data.head()"
   ]
  },
  {
   "cell_type": "code",
   "execution_count": null,
   "metadata": {
    "scrolled": true
   },
   "outputs": [],
   "source": [
    "qmc_data.info()"
   ]
  },
  {
   "cell_type": "code",
   "execution_count": null,
   "metadata": {},
   "outputs": [],
   "source": [
    "qmc_data = qmc_data.dropna()"
   ]
  },
  {
   "cell_type": "code",
   "execution_count": null,
   "metadata": {},
   "outputs": [],
   "source": [
    "### importing population data for each city using census api\n",
    "key='885f59de6382eda46280415daba964af9a0fc190'\n",
    "year = '2019'\n",
    "dsource = 'pep'\n",
    "dname ='population'\n",
    "base_url = f'https://api.census.gov/data/{year}/{dsource}/{dname}?get=NAME,POP&for=place:*&key={key}'\n",
    "response= requests.get(base_url)"
   ]
  },
  {
   "cell_type": "code",
   "execution_count": null,
   "metadata": {},
   "outputs": [],
   "source": [
    "print(response.text)"
   ]
  },
  {
   "cell_type": "code",
   "execution_count": null,
   "metadata": {},
   "outputs": [],
   "source": [
    "pop_data = response.json()"
   ]
  },
  {
   "cell_type": "code",
   "execution_count": null,
   "metadata": {
    "scrolled": true
   },
   "outputs": [],
   "source": [
    "pop_df = pd.DataFrame(pop_data[1:])\n",
    "pop_df.head()"
   ]
  },
  {
   "cell_type": "code",
   "execution_count": null,
   "metadata": {
    "scrolled": true
   },
   "outputs": [],
   "source": [
    "pop_df= pop_df.drop([2,3], axis=1)\n",
    "pop_df.rename(columns={0:'city', 1:'Population'}, inplace=True)\n",
    "pop_df.head()"
   ]
  },
  {
   "cell_type": "code",
   "execution_count": null,
   "metadata": {
    "scrolled": true
   },
   "outputs": [],
   "source": [
    "pop_df[['city_name','state']] = pop_df.city.str.split( ',', expand=True)\n",
    "pop_df.head()"
   ]
  },
  {
   "cell_type": "code",
   "execution_count": null,
   "metadata": {
    "scrolled": true
   },
   "outputs": [],
   "source": [
    "pop_df= pop_df.drop(['city'], axis=1)\n",
    "pop_df.head()"
   ]
  },
  {
   "cell_type": "code",
   "execution_count": null,
   "metadata": {},
   "outputs": [],
   "source": [
    "pop_df['city_name'] = pop_df['city_name'].str.replace(r'city$','')\n",
    "pop_df['city_name'] = pop_df['city_name'].str.replace(r'town$','')"
   ]
  },
  {
   "cell_type": "code",
   "execution_count": null,
   "metadata": {},
   "outputs": [],
   "source": [
    "pop_df.rename(columns={'city_name':'city'}, inplace=True)"
   ]
  },
  {
   "cell_type": "code",
   "execution_count": null,
   "metadata": {},
   "outputs": [],
   "source": [
    "pop_df['state']= pop_df['state'].str.strip()\n",
    "pop_df['city']= pop_df['city'].str.strip()"
   ]
  },
  {
   "cell_type": "code",
   "execution_count": null,
   "metadata": {},
   "outputs": [],
   "source": [
    "us_state_abbrev = {'Alabama': 'AL', 'Alaska': 'AK', 'Arizona': 'AZ', 'Arkansas': 'AR', 'California': 'CA', 'Colorado': 'CO',\n",
    "'Connecticut': 'CT', 'Delaware': 'DE', 'Florida': 'FL', 'Georgia': 'GA', 'Hawaii': 'HI', 'Idaho': 'ID', 'Illinois': 'IL', 'Indiana': 'IN', 'Iowa': 'IA', 'Kansas': 'KS', 'Kentucky': 'KY', 'Louisiana': 'LA',\n",
    "'Maine': 'ME', 'Maryland': 'MD', 'Massachusetts': 'MA', 'Michigan': 'MI', 'Minnesota': 'MN', 'Mississippi': 'MS',\n",
    "'Missouri': 'MO', 'Montana': 'MT', 'Nebraska': 'NE', 'Nevada': 'NV', 'New Hampshire': 'NH', 'New Jersey': 'NJ',\n",
    "'New Mexico': 'NM', 'New York': 'NY', 'North Carolina': 'NC', 'North Dakota': 'ND', 'Ohio': 'OH', 'Oklahoma': 'OK',\n",
    "'Oregon': 'OR', 'Pennsylvania': 'PA', 'Rhode Island': 'RI', 'South Carolina': 'SC', 'South Dakota': 'SD',\n",
    "'Tennessee': 'TN', 'Texas': 'TX', 'Utah': 'UT', 'Vermont': 'VT', 'Virginia': 'VA', 'Washington': 'WA',\n",
    "'West Virginia': 'WV', 'Wisconsin': 'WI', 'Wyoming': 'WY'}"
   ]
  },
  {
   "cell_type": "code",
   "execution_count": null,
   "metadata": {
    "scrolled": true
   },
   "outputs": [],
   "source": [
    "pop_df['state'] = pop_df['state'].map(us_state_abbrev).fillna(pop_df['state'])\n",
    "pop_df.head()"
   ]
  },
  {
   "cell_type": "code",
   "execution_count": null,
   "metadata": {},
   "outputs": [],
   "source": [
    "pop_df['city'] = pop_df['city'].str.upper()"
   ]
  },
  {
   "cell_type": "code",
   "execution_count": null,
   "metadata": {
    "scrolled": true
   },
   "outputs": [],
   "source": [
    "qmc_data = pd.merge(qmc_data,pop_df[['Population','city','state']], on=['city','state'], how='left')\n",
    "qmc_data.head()"
   ]
  },
  {
   "cell_type": "code",
   "execution_count": null,
   "metadata": {
    "scrolled": true
   },
   "outputs": [],
   "source": [
    "qmc_data.info()"
   ]
  },
  {
   "cell_type": "code",
   "execution_count": null,
   "metadata": {},
   "outputs": [],
   "source": [
    "qmc_data.to_csv(r'Data_File.csv', index = False)"
   ]
  },
  {
   "cell_type": "code",
   "execution_count": null,
   "metadata": {},
   "outputs": [],
   "source": [
    "qmc_data = qmc_data.drop(['Population'], axis=1)"
   ]
  },
  {
   "cell_type": "code",
   "execution_count": null,
   "metadata": {},
   "outputs": [],
   "source": [
    "qmc_data['Market Type']= qmc_data['Market Type'].str.strip()\n",
    "qmc_data['Ground/Air']= qmc_data['Ground/Air'].str.strip()"
   ]
  },
  {
   "cell_type": "markdown",
   "metadata": {},
   "source": [
    "### Explantory Data Analysis"
   ]
  },
  {
   "cell_type": "code",
   "execution_count": null,
   "metadata": {
    "scrolled": true
   },
   "outputs": [],
   "source": [
    "qmc_data.describe()"
   ]
  },
  {
   "cell_type": "code",
   "execution_count": null,
   "metadata": {
    "scrolled": true
   },
   "outputs": [],
   "source": [
    "sbs.pairplot(qmc_data)"
   ]
  },
  {
   "cell_type": "code",
   "execution_count": null,
   "metadata": {
    "scrolled": true
   },
   "outputs": [],
   "source": [
    "df_state_total_trips = qmc_data.pivot_table(values = 'Trip_Count', index = 'state', aggfunc = 'sum')\n",
    "df_state_total_trips.reset_index(inplace=True)\n",
    "df_state_total_trips.sort_values(by=('Trip_Count'))"
   ]
  },
  {
   "cell_type": "code",
   "execution_count": null,
   "metadata": {
    "scrolled": true
   },
   "outputs": [],
   "source": [
    "plt.figure(figsize=(13,7))\n",
    "plt.xticks(rotation=45)\n",
    "plt.title(\"Total Trips By State\", fontsize=16,color=\"black\")\n",
    "sbs.barplot(df_state_total_trips[\"state\"],y= df_state_total_trips[\"Trip_Count\"])\n",
    "plt.savefig('Trips Total By State')"
   ]
  },
  {
   "cell_type": "code",
   "execution_count": null,
   "metadata": {
    "scrolled": true
   },
   "outputs": [],
   "source": [
    "df_medicaid = qmc_data.pivot_table(values = 'Medicaid_Percent', index = 'state', aggfunc = 'mean')\n",
    "df_medicaid.reset_index(inplace=True)\n",
    "df_medicaid['Medicaid_Percent'] = df_medicaid['Medicaid_Percent'].round(decimals=2)\n",
    "df_medicaid.sort_values(by='Medicaid_Percent')"
   ]
  },
  {
   "cell_type": "code",
   "execution_count": null,
   "metadata": {
    "scrolled": true
   },
   "outputs": [],
   "source": [
    "plt.figure(figsize=(13,7))\n",
    "plt.xticks(rotation=45)\n",
    "plt.title(\"Average Percent of Medicaid Trip by State\", fontsize=16,color=\"black\")\n",
    "sbs.barplot(df_medicaid[\"state\"],y= df_medicaid[\"Medicaid_Percent\"])\n",
    "plt.savefig('Average Medicaid Percent')"
   ]
  },
  {
   "cell_type": "code",
   "execution_count": null,
   "metadata": {
    "scrolled": true
   },
   "outputs": [],
   "source": [
    "df_medicare = qmc_data.pivot_table(values = 'Medicare_Percent', index = 'state', aggfunc = 'mean')\n",
    "df_medicare.reset_index(inplace=True)\n",
    "df_medicare['Medicare_Percent'] = df_medicare['Medicare_Percent'].round(decimals=2)\n",
    "df_medicare.sort_values(by='Medicare_Percent')"
   ]
  },
  {
   "cell_type": "code",
   "execution_count": null,
   "metadata": {
    "scrolled": true
   },
   "outputs": [],
   "source": [
    "plt.figure(figsize=(13,7))\n",
    "plt.xticks(rotation=45)\n",
    "plt.title(\"Average Percent of Medicare Trip by State\", fontsize=16,color=\"black\")\n",
    "sbs.barplot(df_medicare[\"state\"],y= df_medicare[\"Medicare_Percent\"])\n",
    "plt.savefig('Average Medicare Percent')"
   ]
  },
  {
   "cell_type": "code",
   "execution_count": null,
   "metadata": {
    "scrolled": true
   },
   "outputs": [],
   "source": [
    "df_insurance = qmc_data.pivot_table(values = 'Insurance_Percent', index = 'state', aggfunc = 'mean')\n",
    "df_insurance.reset_index(inplace=True)\n",
    "df_insurance['Insurance_Percent'] = df_insurance['Insurance_Percent'].round(decimals=2)\n",
    "df_insurance.sort_values(by='Insurance_Percent')"
   ]
  },
  {
   "cell_type": "code",
   "execution_count": null,
   "metadata": {
    "scrolled": true
   },
   "outputs": [],
   "source": [
    "plt.figure(figsize=(13,7))\n",
    "plt.xticks(rotation=45)\n",
    "plt.title(\"Average Percent of Insurance Trip by State\", fontsize=16,color=\"black\")\n",
    "sbs.barplot(df_insurance[\"state\"],y= df_insurance[\"Insurance_Percent\"])\n",
    "plt.savefig('Average Insurance Percent')"
   ]
  },
  {
   "cell_type": "code",
   "execution_count": null,
   "metadata": {
    "scrolled": true
   },
   "outputs": [],
   "source": [
    "df_bill_payment = qmc_data.pivot_table(values = 'Bill_Patient_Percent', index = 'state', aggfunc = 'mean')\n",
    "df_bill_payment.reset_index(inplace=True)\n",
    "df_bill_payment['Bill_Patient_Percent'] = df_bill_payment['Bill_Patient_Percent'].round(decimals=2)\n",
    "df_bill_payment.sort_values(by='Bill_Patient_Percent')"
   ]
  },
  {
   "cell_type": "code",
   "execution_count": null,
   "metadata": {
    "scrolled": true
   },
   "outputs": [],
   "source": [
    "plt.figure(figsize=(13,7))\n",
    "plt.xticks(rotation=45)\n",
    "plt.title(\"Average Percent of Bill Payment Trip by State\", fontsize=16,color=\"black\")\n",
    "sbs.barplot(df_bill_payment[\"state\"],y= df_bill_payment[\"Bill_Patient_Percent\"])\n",
    "plt.savefig('Bill_Patient_Percent')"
   ]
  },
  {
   "cell_type": "code",
   "execution_count": null,
   "metadata": {
    "scrolled": true
   },
   "outputs": [],
   "source": [
    "df_contract = qmc_data.pivot_table(values = 'Contract_Percent', index = 'state', aggfunc = 'mean')\n",
    "df_contract.reset_index(inplace=True)\n",
    "df_contract['Contract_Percent'] = df_contract['Contract_Percent'].round(decimals=2)\n",
    "df_contract.sort_values(by='Contract_Percent')"
   ]
  },
  {
   "cell_type": "code",
   "execution_count": null,
   "metadata": {
    "scrolled": true
   },
   "outputs": [],
   "source": [
    "plt.figure(figsize=(13,7))\n",
    "plt.xticks(rotation=45)\n",
    "plt.title(\"Average Percent of Contract Trip by State\", fontsize=16,color=\"black\")\n",
    "sbs.barplot(df_contract[\"state\"],y= df_contract[\"Contract_Percent\"])\n",
    "plt.savefig('Contract_Percent')"
   ]
  },
  {
   "cell_type": "code",
   "execution_count": null,
   "metadata": {
    "scrolled": true
   },
   "outputs": [],
   "source": [
    "df_cogs = qmc_data.pivot_table(values = 'TripCOGS', index = 'state', aggfunc = 'mean')\n",
    "df_cogs.reset_index(inplace=True)\n",
    "df_cogs['TripCOGS'] = df_cogs['TripCOGS'].round(decimals=2)\n",
    "df_cogs.sort_values(by='TripCOGS')"
   ]
  },
  {
   "cell_type": "code",
   "execution_count": null,
   "metadata": {
    "scrolled": true
   },
   "outputs": [],
   "source": [
    "plt.figure(figsize=(13,7))\n",
    "plt.xticks(rotation=45)\n",
    "plt.ticklabel_format(style='plain')\n",
    "plt.title(\"Average COGS By State\", fontsize=16,color=\"black\")\n",
    "sbs.barplot(df_cogs[\"state\"],y= df_cogs[\"TripCOGS\"])\n",
    "plt.savefig('Average_Cogs_By_State.jpg')"
   ]
  },
  {
   "cell_type": "code",
   "execution_count": null,
   "metadata": {
    "scrolled": true
   },
   "outputs": [],
   "source": [
    "avg_profit = qmc_data.pivot_table(values ='Profit', index = 'state', aggfunc = 'mean')\n",
    "avg_profit.reset_index(inplace=True)\n",
    "avg_profit['Profit'] = avg_profit['Profit'].round(decimals=2)\n",
    "avg_profit.sort_values(by='Profit')"
   ]
  },
  {
   "cell_type": "code",
   "execution_count": null,
   "metadata": {
    "scrolled": true
   },
   "outputs": [],
   "source": [
    "plt.figure(figsize=(13,7))\n",
    "plt.xticks(rotation=45)\n",
    "plt.ticklabel_format(style='plain')\n",
    "plt.title(\"Average Profit By State\", fontsize=16,color=\"black\")\n",
    "sbs.barplot(avg_profit[\"state\"],y= avg_profit[\"Profit\"])\n",
    "plt.savefig('Average_Profit_By_State.jpg')"
   ]
  },
  {
   "cell_type": "markdown",
   "metadata": {},
   "source": [
    "### Encoding of Categorical Data"
   ]
  },
  {
   "cell_type": "code",
   "execution_count": null,
   "metadata": {},
   "outputs": [],
   "source": [
    "from sklearn.preprocessing import LabelEncoder\n",
    "encoder = LabelEncoder()"
   ]
  },
  {
   "cell_type": "code",
   "execution_count": null,
   "metadata": {},
   "outputs": [],
   "source": [
    "df = qmc_data.drop(['name'],axis=1)"
   ]
  },
  {
   "cell_type": "code",
   "execution_count": null,
   "metadata": {},
   "outputs": [],
   "source": [
    "df['city'] = encoder.fit_transform(df['city'])\n",
    "df['state'] = encoder.fit_transform(df['state'])\n",
    "df['Geo'] = encoder.fit_transform(df['Geo'])\n",
    "df['Market Type'] = encoder.fit_transform(df['Market Type'])\n",
    "df['Ground/Air'] = encoder.fit_transform(df['Ground/Air'])"
   ]
  },
  {
   "cell_type": "markdown",
   "metadata": {},
   "source": [
    "### Customer Segmentation Model 1 All Features"
   ]
  },
  {
   "cell_type": "code",
   "execution_count": null,
   "metadata": {},
   "outputs": [],
   "source": [
    "from sklearn.preprocessing import MinMaxScaler"
   ]
  },
  {
   "cell_type": "code",
   "execution_count": null,
   "metadata": {},
   "outputs": [],
   "source": [
    "scaler = MinMaxScaler()"
   ]
  },
  {
   "cell_type": "code",
   "execution_count": null,
   "metadata": {
    "scrolled": false
   },
   "outputs": [],
   "source": [
    "df.head()"
   ]
  },
  {
   "cell_type": "code",
   "execution_count": null,
   "metadata": {},
   "outputs": [],
   "source": [
    "df.info()"
   ]
  },
  {
   "cell_type": "code",
   "execution_count": null,
   "metadata": {},
   "outputs": [],
   "source": [
    "test= df['city'].values #convert to numpy array\n",
    "y = scaler.fit_transform(test.reshape(-1,1))\n",
    "df['city'] = y\n",
    "test= df['state'].values #convert to numpy array\n",
    "y = scaler.fit_transform(test.reshape(-1,1))\n",
    "df['state'] = y\n",
    "test= df['Geo'].values #convert to numpy array\n",
    "y = scaler.fit_transform(test.reshape(-1,1))\n",
    "df['Geo'] = y\n",
    "test= df['Months_Customer'].values #convert to numpy array\n",
    "y = scaler.fit_transform(test.reshape(-1,1))\n",
    "df['Months_Customer'] = y\n",
    "test= df['Avg_Monthly_Trips'].values #convert to numpy array\n",
    "y = scaler.fit_transform(test.reshape(-1,1))\n",
    "df['Avg_Monthly_Trips'] = y\n",
    "test= df['Trip_Count'].values #convert to numpy array\n",
    "y = scaler.fit_transform(test.reshape(-1,1))\n",
    "df['Trip_Count'] = y\n",
    "test= df['Flight_Flag'].values #convert to numpy array\n",
    "y = scaler.fit_transform(test.reshape(-1,1))\n",
    "df['Flight_Flag'] = y\n",
    "test= df['Medicare_Percent'].values #convert to numpy array\n",
    "y = scaler.fit_transform(test.reshape(-1,1))\n",
    "df['Medicare_Percent'] = y\n",
    "test= df['Medicaid_Percent'].values #convert to numpy array\n",
    "y = scaler.fit_transform(test.reshape(-1,1))\n",
    "df['Medicaid_Percent'] = y\n",
    "test= df['Insurance_Percent'].values #convert to numpy array\n",
    "y = scaler.fit_transform(test.reshape(-1,1))\n",
    "df['Insurance_Percent'] = y\n",
    "test= df['Contract_Percent'].values #convert to numpy array\n",
    "y = scaler.fit_transform(test.reshape(-1,1))\n",
    "df['Contract_Percent'] = y\n",
    "test= df['Bill_Patient_Percent'].values #convert to numpy array\n",
    "y = scaler.fit_transform(test.reshape(-1,1))\n",
    "df['Bill_Patient_Percent'] = y\n",
    "test= df['Private_Pay_Percent'].values #convert to numpy array\n",
    "y = scaler.fit_transform(test.reshape(-1,1))\n",
    "df['Private_Pay_Percent'] = y\n",
    "test= df['Emerg_Percent_Trips'].values #convert to numpy array\n",
    "y = scaler.fit_transform(test.reshape(-1,1))\n",
    "df['Emerg_Percent_Trips'] = y\n",
    "test= df['Non_Emerg_Percent_Trip'].values #convert to numpy array\n",
    "y = scaler.fit_transform(test.reshape(-1,1))\n",
    "df['Non_Emerg_Percent_Trip'] = y\n",
    "test= df['QMC_Revenue'].values #convert to numpy array\n",
    "y = scaler.fit_transform(test.reshape(-1,1))\n",
    "df['QMC_Revenue'] = y\n",
    "test= df['TripCOGS'].values #convert to numpy array\n",
    "y = scaler.fit_transform(test.reshape(-1,1))\n",
    "df['TripCOGS'] = y\n",
    "test= df['Avg_Rev_Per_Trip'].values #convert to numpy array\n",
    "y = scaler.fit_transform(test.reshape(-1,1))\n",
    "df['Avg_Rev_Per_Trip'] = y\n",
    "test= df['Avg_Cogs_Per_Trip'].values #convert to numpy array\n",
    "y = scaler.fit_transform(test.reshape(-1,1))\n",
    "df['Avg_Cogs_Per_Trip'] = y\n",
    "test= df['Avg_Profit_Per_Trip'].values #convert to numpy array\n",
    "y = scaler.fit_transform(test.reshape(-1,1))\n",
    "df['Avg_Profit_Per_Trip'] = y\n",
    "test= df['Profit'].values #convert to numpy array\n",
    "y = scaler.fit_transform(test.reshape(-1,1))\n",
    "df['Profit'] = y\n",
    "test= df['Market Type'].values #convert to numpy array\n",
    "y = scaler.fit_transform(test.reshape(-1,1))\n",
    "df['Market Type'] = y\n",
    "test= df['Ground/Air'].values #convert to numpy array\n",
    "y = scaler.fit_transform(test.reshape(-1,1))\n",
    "df['Ground/Air'] = y"
   ]
  },
  {
   "cell_type": "code",
   "execution_count": null,
   "metadata": {},
   "outputs": [],
   "source": [
    "df.head()"
   ]
  },
  {
   "cell_type": "code",
   "execution_count": null,
   "metadata": {},
   "outputs": [],
   "source": [
    "from sklearn import metrics\n",
    "from sklearn.cluster import KMeans"
   ]
  },
  {
   "cell_type": "code",
   "execution_count": null,
   "metadata": {},
   "outputs": [],
   "source": [
    "wcss = []\n",
    "for i in range(2, 20):\n",
    "    kmeans = KMeans(n_clusters = i, init = 'k-means++', random_state = 42)\n",
    "    kmeans.fit(df)\n",
    "    wcss.append(kmeans.inertia_)"
   ]
  },
  {
   "cell_type": "code",
   "execution_count": null,
   "metadata": {
    "scrolled": true
   },
   "outputs": [],
   "source": [
    "plt.plot(range(2, 20), wcss,marker='o')\n",
    "plt.title('The Elbow Method')\n",
    "plt.xlabel('Number of clusters')\n",
    "plt.ylabel('WCSS')\n",
    "plt.show()"
   ]
  },
  {
   "cell_type": "code",
   "execution_count": null,
   "metadata": {},
   "outputs": [],
   "source": [
    "kmeans = KMeans(n_clusters = 7, init = 'k-means++', random_state = 42)\n",
    "kmeans.fit(df)\n",
    "pred = kmeans.predict(df)"
   ]
  },
  {
   "cell_type": "code",
   "execution_count": null,
   "metadata": {},
   "outputs": [],
   "source": [
    "qmc_data['cluster'] = pred"
   ]
  },
  {
   "cell_type": "code",
   "execution_count": null,
   "metadata": {},
   "outputs": [],
   "source": [
    "def plot_stats(df_name,feature,label_rotation=False):\n",
    "    temp = df_name[feature].value_counts()\n",
    "    df1 = pd.DataFrame({feature: temp.index,'Count': temp.values})\n",
    "    sbs.set_color_codes(\"pastel\")\n",
    "    s = sbs.barplot(x = feature, y=\"Count\",data=df1)\n",
    "    if(label_rotation):\n",
    "        s.set_xticklabels(s.get_xticklabels(),rotation=90)\n",
    "    plt.tick_params(axis='both', which='major', labelsize=10)\n",
    "    plt.show();"
   ]
  },
  {
   "cell_type": "code",
   "execution_count": null,
   "metadata": {
    "scrolled": true
   },
   "outputs": [],
   "source": [
    "plot_stats(qmc_data,'cluster')"
   ]
  },
  {
   "cell_type": "code",
   "execution_count": null,
   "metadata": {},
   "outputs": [],
   "source": [
    "qmc_data.to_csv(r'Cluster_File_0708.csv', index = False)"
   ]
  },
  {
   "cell_type": "code",
   "execution_count": null,
   "metadata": {
    "scrolled": true
   },
   "outputs": [],
   "source": [
    "fig = plt.figure(figsize=(20,10))\n",
    "ax = fig.add_subplot(111, projection='3d')\n",
    "ax.scatter(qmc_data['Avg_Monthly_Trips'][qmc_data.cluster == 0], qmc_data[\"Avg_Rev_Per_Trip\"][qmc_data.cluster == 0], qmc_data[\"Avg_Profit_Per_Trip\"][qmc_data.cluster == 0], c='blue', s=60, label='cluster 1')\n",
    "ax.scatter(qmc_data['Avg_Monthly_Trips'][qmc_data.cluster == 1], qmc_data[\"Avg_Rev_Per_Trip\"][qmc_data.cluster == 1], qmc_data[\"Avg_Profit_Per_Trip\"][qmc_data.cluster == 1], c='red', s=60, label='cluster 2')\n",
    "ax.scatter(qmc_data['Avg_Monthly_Trips'][qmc_data.cluster == 2], qmc_data[\"Avg_Rev_Per_Trip\"][qmc_data.cluster == 2], qmc_data[\"Avg_Profit_Per_Trip\"][qmc_data.cluster == 2], c='green', s=60, label='cluster 3')\n",
    "ax.scatter(qmc_data['Avg_Monthly_Trips'][qmc_data.cluster == 3], qmc_data[\"Avg_Rev_Per_Trip\"][qmc_data.cluster == 3], qmc_data[\"Avg_Profit_Per_Trip\"][qmc_data.cluster == 3], c='purple', s=60, label='cluster 4')\n",
    "ax.scatter(qmc_data['Avg_Monthly_Trips'][qmc_data.cluster == 4], qmc_data[\"Avg_Rev_Per_Trip\"][qmc_data.cluster == 4], qmc_data[\"Avg_Profit_Per_Trip\"][qmc_data.cluster == 4], c='pink', s=60, label='cluster 5')\n",
    "ax.scatter(qmc_data['Avg_Monthly_Trips'][qmc_data.cluster == 5], qmc_data[\"Avg_Rev_Per_Trip\"][qmc_data.cluster == 5], qmc_data[\"Avg_Profit_Per_Trip\"][qmc_data.cluster == 5], c='gold', s=60, label='cluster 6')\n",
    "ax.scatter(qmc_data['Avg_Monthly_Trips'][qmc_data.cluster == 6], qmc_data[\"Avg_Rev_Per_Trip\"][qmc_data.cluster == 6], qmc_data[\"Avg_Profit_Per_Trip\"][qmc_data.cluster == 6], c='black', s=60, label='cluster 7')\n",
    "\n",
    "ax.ticklabel_format(style='plain')\n",
    "\n",
    "ax.view_init(30, 185)\n",
    "plt.xlabel(\"Avg_Monthly_Trip\")\n",
    "plt.ylabel(\"Avg_Rev_Per_Trip\")\n",
    "ax.set_zlabel('Avg_Profit_Per_Trip')\n",
    "ax.legend()\n",
    "plt.show()"
   ]
  },
  {
   "cell_type": "code",
   "execution_count": null,
   "metadata": {},
   "outputs": [],
   "source": [
    "y = df[['Medicare_Percent','Medicaid_Percent','Insurance_Percent','Contract_Percent','Bill_Patient_Percent','Private_Pay_Percent','QMC_Revenue','TripCOGS','Profit']]"
   ]
  },
  {
   "cell_type": "code",
   "execution_count": null,
   "metadata": {},
   "outputs": [],
   "source": [
    "wcss = []\n",
    "for i in range(2, 20):\n",
    "    kmeans = KMeans(n_clusters = i, init = 'k-means++', random_state = 42)\n",
    "    kmeans.fit(y)\n",
    "    wcss.append(kmeans.inertia_)"
   ]
  },
  {
   "cell_type": "code",
   "execution_count": null,
   "metadata": {
    "scrolled": true
   },
   "outputs": [],
   "source": [
    "plt.plot(range(2, 20), wcss,marker='o')\n",
    "plt.title('The Elbow Method')\n",
    "plt.xlabel('Number of clusters')\n",
    "plt.ylabel('WCSS')\n",
    "plt.show()"
   ]
  },
  {
   "cell_type": "code",
   "execution_count": null,
   "metadata": {},
   "outputs": [],
   "source": [
    "kmeans = KMeans(n_clusters = 6, init = 'k-means++', random_state = 42)\n",
    "kmeans.fit(y)\n",
    "pred = kmeans.predict(y)"
   ]
  },
  {
   "cell_type": "code",
   "execution_count": null,
   "metadata": {},
   "outputs": [],
   "source": [
    "qmc_data = qmc_data.drop(['cluster'], axis = 1)"
   ]
  },
  {
   "cell_type": "code",
   "execution_count": null,
   "metadata": {},
   "outputs": [],
   "source": [
    "qmc_data['cluster'] = pred"
   ]
  },
  {
   "cell_type": "code",
   "execution_count": null,
   "metadata": {
    "scrolled": true
   },
   "outputs": [],
   "source": [
    "plot_stats(qmc_data,'cluster')"
   ]
  },
  {
   "cell_type": "code",
   "execution_count": null,
   "metadata": {
    "scrolled": true
   },
   "outputs": [],
   "source": [
    "fig = plt.figure(figsize=(20,10))\n",
    "ax = fig.add_subplot(111, projection='3d')\n",
    "ax.scatter(qmc_data['Avg_Monthly_Trips'][qmc_data.cluster == 0], qmc_data[\"Avg_Rev_Per_Trip\"][qmc_data.cluster == 0], qmc_data[\"Avg_Profit_Per_Trip\"][qmc_data.cluster == 0], c='blue', s=60, label='cluster 1')\n",
    "ax.scatter(qmc_data['Avg_Monthly_Trips'][qmc_data.cluster == 1], qmc_data[\"Avg_Rev_Per_Trip\"][qmc_data.cluster == 1], qmc_data[\"Avg_Profit_Per_Trip\"][qmc_data.cluster == 1], c='red', s=60, label='cluster 2')\n",
    "ax.scatter(qmc_data['Avg_Monthly_Trips'][qmc_data.cluster == 2], qmc_data[\"Avg_Rev_Per_Trip\"][qmc_data.cluster == 2], qmc_data[\"Avg_Profit_Per_Trip\"][qmc_data.cluster == 2], c='green', s=60, label='cluster 3')\n",
    "ax.scatter(qmc_data['Avg_Monthly_Trips'][qmc_data.cluster == 3], qmc_data[\"Avg_Rev_Per_Trip\"][qmc_data.cluster == 3], qmc_data[\"Avg_Profit_Per_Trip\"][qmc_data.cluster == 3], c='purple', s=60, label='cluster 4')\n",
    "ax.scatter(qmc_data['Avg_Monthly_Trips'][qmc_data.cluster == 4], qmc_data[\"Avg_Rev_Per_Trip\"][qmc_data.cluster == 4], qmc_data[\"Avg_Profit_Per_Trip\"][qmc_data.cluster == 4], c='pink', s=60, label='cluster 5')\n",
    "ax.scatter(qmc_data['Avg_Monthly_Trips'][qmc_data.cluster == 5], qmc_data[\"Avg_Rev_Per_Trip\"][qmc_data.cluster == 5], qmc_data[\"Avg_Profit_Per_Trip\"][qmc_data.cluster == 5], c='gold', s=60, label='cluster 6')\n",
    "\n",
    "ax.ticklabel_format(style='plain')\n",
    "\n",
    "ax.view_init(30, 185)\n",
    "plt.xlabel(\"Avg_Monthly_Trip\")\n",
    "plt.ylabel(\"Avg_Rev_Per_Trip\")\n",
    "ax.set_zlabel('Avg_Profit_Per_Trip')\n",
    "ax.legend()\n",
    "plt.show()"
   ]
  },
  {
   "cell_type": "code",
   "execution_count": null,
   "metadata": {},
   "outputs": [],
   "source": [
    "qmc_data.to_csv(r'Cluster_File_2_0708.csv', index = False)"
   ]
  },
  {
   "cell_type": "code",
   "execution_count": null,
   "metadata": {},
   "outputs": [],
   "source": [
    "sbs.scatterplot(\"Profit\",\"TripCOGS\", data=qmc_data, hue=\"cluster\", palette=\"deep\")"
   ]
  },
  {
   "cell_type": "markdown",
   "metadata": {},
   "source": [
    "### Model 3"
   ]
  },
  {
   "cell_type": "code",
   "execution_count": null,
   "metadata": {},
   "outputs": [],
   "source": [
    "x = df[['Avg_Monthly_Trips','Avg_Rev_Per_Trip','Avg_Cogs_Per_Trip','Profit','Market Type','Avg_Profit_Per_Trip']]"
   ]
  },
  {
   "cell_type": "code",
   "execution_count": null,
   "metadata": {},
   "outputs": [],
   "source": [
    "wcss = []\n",
    "for i in range(2, 20):\n",
    "    kmeans = KMeans(n_clusters = i, init = 'k-means++', random_state = 42)\n",
    "    kmeans.fit(x)\n",
    "    wcss.append(kmeans.inertia_)"
   ]
  },
  {
   "cell_type": "code",
   "execution_count": null,
   "metadata": {
    "scrolled": true
   },
   "outputs": [],
   "source": [
    "plt.plot(range(2, 20), wcss,marker='o')\n",
    "plt.title('The Elbow Method')\n",
    "plt.xlabel('Number of clusters')\n",
    "plt.ylabel('WCSS')\n",
    "plt.show()"
   ]
  },
  {
   "cell_type": "code",
   "execution_count": null,
   "metadata": {},
   "outputs": [],
   "source": [
    "kmeans = KMeans(n_clusters = 4, init = 'k-means++', random_state = 42)\n",
    "kmeans.fit(x)\n",
    "pred = kmeans.predict(x)"
   ]
  },
  {
   "cell_type": "code",
   "execution_count": null,
   "metadata": {},
   "outputs": [],
   "source": [
    "qmc_data = qmc_data.drop(['cluster'], axis = 1)"
   ]
  },
  {
   "cell_type": "code",
   "execution_count": null,
   "metadata": {},
   "outputs": [],
   "source": [
    "qmc_data['cluster'] = pred"
   ]
  },
  {
   "cell_type": "code",
   "execution_count": null,
   "metadata": {
    "scrolled": true
   },
   "outputs": [],
   "source": [
    "plot_stats(qmc_data,'cluster')"
   ]
  },
  {
   "cell_type": "code",
   "execution_count": null,
   "metadata": {
    "scrolled": true
   },
   "outputs": [],
   "source": [
    "sbs.scatterplot(\"Profit\",\"TripCOGS\", data=qmc_data, hue=\"cluster\", palette=\"deep\")"
   ]
  },
  {
   "cell_type": "code",
   "execution_count": null,
   "metadata": {
    "scrolled": true
   },
   "outputs": [],
   "source": [
    "fig = plt.figure(figsize=(20,10))\n",
    "ax = fig.add_subplot(111, projection='3d')\n",
    "ax.scatter(qmc_data['Avg_Monthly_Trips'][qmc_data.cluster == 0], qmc_data[\"Avg_Rev_Per_Trip\"][qmc_data.cluster == 0], qmc_data[\"Avg_Profit_Per_Trip\"][qmc_data.cluster == 0], c='blue', s=60, label='cluster 1')\n",
    "ax.scatter(qmc_data['Avg_Monthly_Trips'][qmc_data.cluster == 1], qmc_data[\"Avg_Rev_Per_Trip\"][qmc_data.cluster == 1], qmc_data[\"Avg_Profit_Per_Trip\"][qmc_data.cluster == 1], c='red', s=60, label='cluster 2')\n",
    "ax.scatter(qmc_data['Avg_Monthly_Trips'][qmc_data.cluster == 2], qmc_data[\"Avg_Rev_Per_Trip\"][qmc_data.cluster == 2], qmc_data[\"Avg_Profit_Per_Trip\"][qmc_data.cluster == 2], c='green', s=60, label='cluster 3')\n",
    "ax.scatter(qmc_data['Avg_Monthly_Trips'][qmc_data.cluster == 3], qmc_data[\"Avg_Rev_Per_Trip\"][qmc_data.cluster == 3], qmc_data[\"Avg_Profit_Per_Trip\"][qmc_data.cluster == 3], c='purple', s=60, label='cluster 4')\n",
    "\n",
    "\n",
    "ax.ticklabel_format(style='plain')\n",
    "\n",
    "ax.view_init(30, 185)\n",
    "plt.xlabel(\"Avg_Monthly_Trip\")\n",
    "plt.ylabel(\"Avg_Rev_Per_Trip\")\n",
    "ax.set_zlabel('Avg_Profit_Per_Trip')\n",
    "ax.legend()\n",
    "plt.show()"
   ]
  },
  {
   "cell_type": "code",
   "execution_count": null,
   "metadata": {
    "scrolled": true
   },
   "outputs": [],
   "source": [
    "sbs.scatterplot(\"Avg_Rev_Per_Trip\",\"Avg_Cogs_Per_Trip\", data=qmc_data, hue=\"cluster\", palette=\"deep\")"
   ]
  },
  {
   "cell_type": "code",
   "execution_count": null,
   "metadata": {},
   "outputs": [],
   "source": [
    "qmc_data.to_csv(r'Cluster_File_3_0708.csv', index = False)"
   ]
  },
  {
   "cell_type": "markdown",
   "metadata": {},
   "source": [
    "### Model 4"
   ]
  },
  {
   "cell_type": "code",
   "execution_count": null,
   "metadata": {},
   "outputs": [],
   "source": [
    "x = df[['Geo','Avg_Monthly_Trips','Avg_Rev_Per_Trip','Avg_Cogs_Per_Trip','Market Type','Avg_Profit_Per_Trip']]"
   ]
  },
  {
   "cell_type": "code",
   "execution_count": null,
   "metadata": {},
   "outputs": [],
   "source": [
    "wcss = []\n",
    "for i in range(1, 11):\n",
    "    kmeans = KMeans(n_clusters = i, init = 'k-means++', random_state = 42)\n",
    "    kmeans.fit(x)\n",
    "    wcss.append(kmeans.inertia_)"
   ]
  },
  {
   "cell_type": "code",
   "execution_count": null,
   "metadata": {
    "scrolled": true
   },
   "outputs": [],
   "source": [
    "plt.plot(range(1, 11), wcss,marker='o')\n",
    "plt.title('The Elbow Method')\n",
    "plt.xlabel('Number of clusters')\n",
    "plt.ylabel('WCSS')\n",
    "plt.show()"
   ]
  },
  {
   "cell_type": "code",
   "execution_count": null,
   "metadata": {},
   "outputs": [],
   "source": [
    "kmeans = KMeans(n_clusters = 4, init = 'k-means++', random_state = 42)\n",
    "kmeans.fit(x)\n",
    "pred = kmeans.predict(x)"
   ]
  },
  {
   "cell_type": "code",
   "execution_count": null,
   "metadata": {},
   "outputs": [],
   "source": [
    "qmc_data = qmc_data.drop(['cluster'], axis = 1)"
   ]
  },
  {
   "cell_type": "code",
   "execution_count": null,
   "metadata": {},
   "outputs": [],
   "source": [
    "qmc_data['cluster'] = pred"
   ]
  },
  {
   "cell_type": "code",
   "execution_count": null,
   "metadata": {
    "scrolled": true
   },
   "outputs": [],
   "source": [
    "plot_stats(qmc_data,'cluster')"
   ]
  },
  {
   "cell_type": "code",
   "execution_count": null,
   "metadata": {
    "scrolled": true
   },
   "outputs": [],
   "source": [
    "fig = plt.figure(figsize=(20,10))\n",
    "ax = fig.add_subplot(111, projection='3d')\n",
    "ax.scatter(qmc_data['Avg_Monthly_Trips'][qmc_data.cluster == 0], qmc_data[\"Avg_Rev_Per_Trip\"][qmc_data.cluster == 0], qmc_data[\"Avg_Profit_Per_Trip\"][qmc_data.cluster == 0], c='blue', s=60, label='cluster 1')\n",
    "ax.scatter(qmc_data['Avg_Monthly_Trips'][qmc_data.cluster == 1], qmc_data[\"Avg_Rev_Per_Trip\"][qmc_data.cluster == 1], qmc_data[\"Avg_Profit_Per_Trip\"][qmc_data.cluster == 1], c='red', s=60, label='cluster 2')\n",
    "ax.scatter(qmc_data['Avg_Monthly_Trips'][qmc_data.cluster == 2], qmc_data[\"Avg_Rev_Per_Trip\"][qmc_data.cluster == 2], qmc_data[\"Avg_Profit_Per_Trip\"][qmc_data.cluster == 2], c='green', s=60, label='cluster 3')\n",
    "ax.scatter(qmc_data['Avg_Monthly_Trips'][qmc_data.cluster == 3], qmc_data[\"Avg_Rev_Per_Trip\"][qmc_data.cluster == 3], qmc_data[\"Avg_Profit_Per_Trip\"][qmc_data.cluster == 3], c='purple', s=60, label='cluster 4')\n",
    "\n",
    "\n",
    "ax.ticklabel_format(style='plain')\n",
    "\n",
    "ax.view_init(30, 185)\n",
    "plt.xlabel(\"Avg_Monthly_Trip\")\n",
    "plt.ylabel(\"Avg_Rev_Per_Trip\")\n",
    "ax.set_zlabel('Avg_Profit_Per_Trip')\n",
    "ax.legend()\n",
    "plt.show()"
   ]
  },
  {
   "cell_type": "code",
   "execution_count": null,
   "metadata": {
    "scrolled": true
   },
   "outputs": [],
   "source": [
    "sbs.scatterplot(\"Avg_Rev_Per_Trip\",\"Avg_Cogs_Per_Trip\", data=qmc_data, hue=\"cluster\", palette=\"deep\")"
   ]
  },
  {
   "cell_type": "code",
   "execution_count": null,
   "metadata": {},
   "outputs": [],
   "source": [
    "qmc_data.to_csv(r'Cluster_File_4_0708.csv', index = False)"
   ]
  },
  {
   "cell_type": "markdown",
   "metadata": {},
   "source": [
    "### Model 5"
   ]
  },
  {
   "cell_type": "code",
   "execution_count": null,
   "metadata": {},
   "outputs": [],
   "source": [
    "x = df[['Geo','Avg_Monthly_Trips','Avg_Rev_Per_Trip','Avg_Cogs_Per_Trip','Market Type','Avg_Profit_Per_Trip','Ground/Air']]"
   ]
  },
  {
   "cell_type": "code",
   "execution_count": null,
   "metadata": {},
   "outputs": [],
   "source": [
    "wcss = []\n",
    "for i in range(1, 11):\n",
    "    kmeans = KMeans(n_clusters = i, init = 'k-means++', random_state = 42)\n",
    "    kmeans.fit(x)\n",
    "    wcss.append(kmeans.inertia_)"
   ]
  },
  {
   "cell_type": "code",
   "execution_count": null,
   "metadata": {
    "scrolled": true
   },
   "outputs": [],
   "source": [
    "plt.plot(range(1, 11), wcss,marker='o')\n",
    "plt.title('The Elbow Method')\n",
    "plt.xlabel('Number of clusters')\n",
    "plt.ylabel('WCSS')\n",
    "plt.show()"
   ]
  },
  {
   "cell_type": "code",
   "execution_count": null,
   "metadata": {},
   "outputs": [],
   "source": [
    "kmeans = KMeans(n_clusters = 5, init = 'k-means++', random_state = 42)\n",
    "kmeans.fit(x)\n",
    "pred = kmeans.predict(x)"
   ]
  },
  {
   "cell_type": "code",
   "execution_count": null,
   "metadata": {},
   "outputs": [],
   "source": [
    "qmc_data = qmc_data.drop(['cluster'], axis = 1)"
   ]
  },
  {
   "cell_type": "code",
   "execution_count": null,
   "metadata": {},
   "outputs": [],
   "source": [
    "qmc_data['cluster'] = pred"
   ]
  },
  {
   "cell_type": "code",
   "execution_count": null,
   "metadata": {},
   "outputs": [],
   "source": [
    "plot_stats(qmc_data,'cluster')"
   ]
  },
  {
   "cell_type": "code",
   "execution_count": null,
   "metadata": {
    "scrolled": true
   },
   "outputs": [],
   "source": [
    "sbs.scatterplot(\"Avg_Rev_Per_Trip\",\"Avg_Cogs_Per_Trip\", data=qmc_data, hue=\"cluster\", palette=\"deep\")"
   ]
  },
  {
   "cell_type": "code",
   "execution_count": null,
   "metadata": {
    "scrolled": true
   },
   "outputs": [],
   "source": [
    "fig = plt.figure(figsize=(20,10))\n",
    "ax = fig.add_subplot(111, projection='3d')\n",
    "ax.scatter(qmc_data['Avg_Cogs_Per_Trip'][qmc_data.cluster == 0], qmc_data[\"Avg_Rev_Per_Trip\"][qmc_data.cluster == 0], qmc_data[\"Avg_Profit_Per_Trip\"][qmc_data.cluster == 0], c='blue', s=60, label='cluster 1')\n",
    "ax.scatter(qmc_data['Avg_Cogs_Per_Trip'][qmc_data.cluster == 1], qmc_data[\"Avg_Rev_Per_Trip\"][qmc_data.cluster == 1], qmc_data[\"Avg_Profit_Per_Trip\"][qmc_data.cluster == 1], c='red', s=60, label='cluster 2')\n",
    "ax.scatter(qmc_data['Avg_Cogs_Per_Trip'][qmc_data.cluster == 2], qmc_data[\"Avg_Rev_Per_Trip\"][qmc_data.cluster == 2], qmc_data[\"Avg_Profit_Per_Trip\"][qmc_data.cluster == 2], c='green', s=60, label='cluster 3')\n",
    "ax.scatter(qmc_data['Avg_Cogs_Per_Trip'][qmc_data.cluster == 3], qmc_data[\"Avg_Rev_Per_Trip\"][qmc_data.cluster == 3], qmc_data[\"Avg_Profit_Per_Trip\"][qmc_data.cluster == 3], c='purple', s=60, label='cluster 4')\n",
    "ax.scatter(qmc_data['Avg_Cogs_Per_Trip'][qmc_data.cluster == 4], qmc_data[\"Avg_Rev_Per_Trip\"][qmc_data.cluster == 4], qmc_data[\"Avg_Profit_Per_Trip\"][qmc_data.cluster == 4], c='black', s=60, label='cluster 4')\n",
    "\n",
    "\n",
    "ax.ticklabel_format(style='plain')\n",
    "\n",
    "ax.view_init(30, 185)\n",
    "plt.xlabel(\"Avg_Cogs_Per_Trip\")\n",
    "plt.ylabel(\"Avg_Rev_Per_Trip\")\n",
    "ax.set_zlabel('Avg_Profit_Per_Trip')\n",
    "ax.legend()\n",
    "plt.show()"
   ]
  },
  {
   "cell_type": "code",
   "execution_count": null,
   "metadata": {},
   "outputs": [],
   "source": [
    "qmc_data.to_csv(r'Cluster_File_5_0708.csv', index = False)"
   ]
  }
 ],
 "metadata": {
  "kernelspec": {
   "display_name": "Python 3",
   "language": "python",
   "name": "python3"
  },
  "language_info": {
   "codemirror_mode": {
    "name": "ipython",
    "version": 3
   },
   "file_extension": ".py",
   "mimetype": "text/x-python",
   "name": "python",
   "nbconvert_exporter": "python",
   "pygments_lexer": "ipython3",
   "version": "3.8.5"
  }
 },
 "nbformat": 4,
 "nbformat_minor": 4
}
